{
 "cells": [
  {
   "cell_type": "markdown",
   "metadata": {},
   "source": [
    "# Data Cleaning - Amazon Reviews Dataset<br>\n",
    "### This is a smaller dataset that was created from cassendra to to data cleaning and analysis. A raw data `data.json` was used to create a new file `data_clean.csv` after cleaning. "
   ]
  },
  {
   "cell_type": "code",
   "execution_count": 1,
   "metadata": {
    "collapsed": true
   },
   "outputs": [],
   "source": [
    "import pandas as pd\n",
    "import json\n",
    "import numpy as np\n",
    "import matplotlib.pyplot as plt\n",
    "import seaborn as sns\n",
    "%matplotlib inline"
   ]
  },
  {
   "cell_type": "markdown",
   "metadata": {},
   "source": [
    "**Reading json data file and checking the head of the dataframe**<br>\n",
    "Data file `data.json` is provided in the folder."
   ]
  },
  {
   "cell_type": "code",
   "execution_count": 2,
   "metadata": {
    "collapsed": true
   },
   "outputs": [],
   "source": [
    "df = pd.read_json('data.json', lines=True)"
   ]
  },
  {
   "cell_type": "code",
   "execution_count": 3,
   "metadata": {},
   "outputs": [
    {
     "data": {
      "text/html": [
       "<div>\n",
       "<style>\n",
       "    .dataframe thead tr:only-child th {\n",
       "        text-align: right;\n",
       "    }\n",
       "\n",
       "    .dataframe thead th {\n",
       "        text-align: left;\n",
       "    }\n",
       "\n",
       "    .dataframe tbody tr th {\n",
       "        vertical-align: top;\n",
       "    }\n",
       "</style>\n",
       "<table border=\"1\" class=\"dataframe\">\n",
       "  <thead>\n",
       "    <tr style=\"text-align: right;\">\n",
       "      <th></th>\n",
       "      <th>asin</th>\n",
       "      <th>brand</th>\n",
       "      <th>categories</th>\n",
       "      <th>helpful</th>\n",
       "      <th>overall</th>\n",
       "      <th>price</th>\n",
       "      <th>reviewText</th>\n",
       "      <th>reviewTime</th>\n",
       "      <th>reviewerID</th>\n",
       "      <th>reviewerName</th>\n",
       "      <th>summary</th>\n",
       "      <th>title</th>\n",
       "      <th>unixReviewTime</th>\n",
       "    </tr>\n",
       "  </thead>\n",
       "  <tbody>\n",
       "    <tr>\n",
       "      <th>0</th>\n",
       "      <td>B00004WA57</td>\n",
       "      <td>Gerber Blades</td>\n",
       "      <td>[[\"Sports &amp; Outdoors\",\"Outdoor Gear\",\"Camping ...</td>\n",
       "      <td>[2,3]</td>\n",
       "      <td>5</td>\n",
       "      <td>25.94</td>\n",
       "      <td>I have own an E-Z out for over 16yrs and have ...</td>\n",
       "      <td>08 1, 2013</td>\n",
       "      <td>A2FLKB2RU011W5</td>\n",
       "      <td>Amazon Customer</td>\n",
       "      <td>E-Z Out</td>\n",
       "      <td>GERBER E-Z Out Skeleton - Serrated Edge - Mode...</td>\n",
       "      <td>2013-07-31T17:00:00.000-07:00</td>\n",
       "    </tr>\n",
       "    <tr>\n",
       "      <th>1</th>\n",
       "      <td>B00004WA57</td>\n",
       "      <td>Gerber Blades</td>\n",
       "      <td>[[\"Sports &amp; Outdoors\",\"Outdoor Gear\",\"Camping ...</td>\n",
       "      <td>[0,0]</td>\n",
       "      <td>5</td>\n",
       "      <td>25.94</td>\n",
       "      <td>Good product. Exactly what I ordered. Going to...</td>\n",
       "      <td>01 11, 2013</td>\n",
       "      <td>A1AO9Y7BTTEA4S</td>\n",
       "      <td>Anonymous</td>\n",
       "      <td>Great</td>\n",
       "      <td>GERBER E-Z Out Skeleton - Serrated Edge - Mode...</td>\n",
       "      <td>2013-01-10T16:00:00.000-08:00</td>\n",
       "    </tr>\n",
       "    <tr>\n",
       "      <th>2</th>\n",
       "      <td>B00004WA57</td>\n",
       "      <td>Gerber Blades</td>\n",
       "      <td>[[\"Sports &amp; Outdoors\",\"Outdoor Gear\",\"Camping ...</td>\n",
       "      <td>[0,0]</td>\n",
       "      <td>5</td>\n",
       "      <td>25.94</td>\n",
       "      <td>A good product, a must for outdoor enthusiasts...</td>\n",
       "      <td>02 23, 2014</td>\n",
       "      <td>A947DTVGAHEJX</td>\n",
       "      <td>Aryaputr...... \"Dhiraj\"</td>\n",
       "      <td>GERBER E-Z Out Skeleton - KNIFE</td>\n",
       "      <td>GERBER E-Z Out Skeleton - Serrated Edge - Mode...</td>\n",
       "      <td>2014-02-22T16:00:00.000-08:00</td>\n",
       "    </tr>\n",
       "    <tr>\n",
       "      <th>3</th>\n",
       "      <td>B00004WA57</td>\n",
       "      <td>Gerber Blades</td>\n",
       "      <td>[[\"Sports &amp; Outdoors\",\"Outdoor Gear\",\"Camping ...</td>\n",
       "      <td>[0,0]</td>\n",
       "      <td>5</td>\n",
       "      <td>25.94</td>\n",
       "      <td>This knife if easy to use, and more importantl...</td>\n",
       "      <td>08 13, 2011</td>\n",
       "      <td>AIMP6GYOAIXHI</td>\n",
       "      <td>Bay Lady \"Bay Lady\"</td>\n",
       "      <td>Very pleased</td>\n",
       "      <td>GERBER E-Z Out Skeleton - Serrated Edge - Mode...</td>\n",
       "      <td>2011-08-12T17:00:00.000-07:00</td>\n",
       "    </tr>\n",
       "    <tr>\n",
       "      <th>4</th>\n",
       "      <td>B00004WA57</td>\n",
       "      <td>Gerber Blades</td>\n",
       "      <td>[[\"Sports &amp; Outdoors\",\"Outdoor Gear\",\"Camping ...</td>\n",
       "      <td>[0,0]</td>\n",
       "      <td>5</td>\n",
       "      <td>25.94</td>\n",
       "      <td>This is the best knive ive had EVER.  It is sh...</td>\n",
       "      <td>06 30, 2014</td>\n",
       "      <td>A1ISFA63UQQQUE</td>\n",
       "      <td>Bill Blackwell</td>\n",
       "      <td>BEST KNIVE EVER</td>\n",
       "      <td>GERBER E-Z Out Skeleton - Serrated Edge - Mode...</td>\n",
       "      <td>2014-06-29T17:00:00.000-07:00</td>\n",
       "    </tr>\n",
       "  </tbody>\n",
       "</table>\n",
       "</div>"
      ],
      "text/plain": [
       "         asin          brand  \\\n",
       "0  B00004WA57  Gerber Blades   \n",
       "1  B00004WA57  Gerber Blades   \n",
       "2  B00004WA57  Gerber Blades   \n",
       "3  B00004WA57  Gerber Blades   \n",
       "4  B00004WA57  Gerber Blades   \n",
       "\n",
       "                                          categories helpful  overall  price  \\\n",
       "0  [[\"Sports & Outdoors\",\"Outdoor Gear\",\"Camping ...   [2,3]        5  25.94   \n",
       "1  [[\"Sports & Outdoors\",\"Outdoor Gear\",\"Camping ...   [0,0]        5  25.94   \n",
       "2  [[\"Sports & Outdoors\",\"Outdoor Gear\",\"Camping ...   [0,0]        5  25.94   \n",
       "3  [[\"Sports & Outdoors\",\"Outdoor Gear\",\"Camping ...   [0,0]        5  25.94   \n",
       "4  [[\"Sports & Outdoors\",\"Outdoor Gear\",\"Camping ...   [0,0]        5  25.94   \n",
       "\n",
       "                                          reviewText   reviewTime  \\\n",
       "0  I have own an E-Z out for over 16yrs and have ...   08 1, 2013   \n",
       "1  Good product. Exactly what I ordered. Going to...  01 11, 2013   \n",
       "2  A good product, a must for outdoor enthusiasts...  02 23, 2014   \n",
       "3  This knife if easy to use, and more importantl...  08 13, 2011   \n",
       "4  This is the best knive ive had EVER.  It is sh...  06 30, 2014   \n",
       "\n",
       "       reviewerID             reviewerName                          summary  \\\n",
       "0  A2FLKB2RU011W5          Amazon Customer                          E-Z Out   \n",
       "1  A1AO9Y7BTTEA4S                Anonymous                            Great   \n",
       "2   A947DTVGAHEJX  Aryaputr...... \"Dhiraj\"  GERBER E-Z Out Skeleton - KNIFE   \n",
       "3   AIMP6GYOAIXHI      Bay Lady \"Bay Lady\"                     Very pleased   \n",
       "4  A1ISFA63UQQQUE           Bill Blackwell                  BEST KNIVE EVER   \n",
       "\n",
       "                                               title  \\\n",
       "0  GERBER E-Z Out Skeleton - Serrated Edge - Mode...   \n",
       "1  GERBER E-Z Out Skeleton - Serrated Edge - Mode...   \n",
       "2  GERBER E-Z Out Skeleton - Serrated Edge - Mode...   \n",
       "3  GERBER E-Z Out Skeleton - Serrated Edge - Mode...   \n",
       "4  GERBER E-Z Out Skeleton - Serrated Edge - Mode...   \n",
       "\n",
       "                  unixReviewTime  \n",
       "0  2013-07-31T17:00:00.000-07:00  \n",
       "1  2013-01-10T16:00:00.000-08:00  \n",
       "2  2014-02-22T16:00:00.000-08:00  \n",
       "3  2011-08-12T17:00:00.000-07:00  \n",
       "4  2014-06-29T17:00:00.000-07:00  "
      ]
     },
     "execution_count": 3,
     "metadata": {},
     "output_type": "execute_result"
    }
   ],
   "source": [
    "df.head()"
   ]
  },
  {
   "cell_type": "markdown",
   "metadata": {
    "collapsed": true
   },
   "source": [
    "**Let's have a brief summery of the data using `info()`**"
   ]
  },
  {
   "cell_type": "code",
   "execution_count": 5,
   "metadata": {},
   "outputs": [
    {
     "name": "stdout",
     "output_type": "stream",
     "text": [
      "<class 'pandas.core.frame.DataFrame'>\n",
      "Int64Index: 100000 entries, 0 to 99999\n",
      "Data columns (total 13 columns):\n",
      "asin              100000 non-null object\n",
      "brand             50967 non-null object\n",
      "categories        100000 non-null object\n",
      "helpful           100000 non-null object\n",
      "overall           100000 non-null int64\n",
      "price             68769 non-null float64\n",
      "reviewText        100000 non-null object\n",
      "reviewTime        100000 non-null object\n",
      "reviewerID        100000 non-null object\n",
      "reviewerName      99637 non-null object\n",
      "summary           100000 non-null object\n",
      "title             98908 non-null object\n",
      "unixReviewTime    100000 non-null object\n",
      "dtypes: float64(1), int64(1), object(11)\n",
      "memory usage: 10.7+ MB\n"
     ]
    }
   ],
   "source": [
    "df.info()"
   ]
  },
  {
   "cell_type": "markdown",
   "metadata": {},
   "source": [
    "**There are missing data, lets check how much data is missing in %!**<br>"
   ]
  },
  {
   "cell_type": "code",
   "execution_count": 6,
   "metadata": {},
   "outputs": [
    {
     "data": {
      "text/plain": [
       "asin               0.000\n",
       "brand             49.033\n",
       "categories         0.000\n",
       "helpful            0.000\n",
       "overall            0.000\n",
       "price             31.231\n",
       "reviewText         0.000\n",
       "reviewTime         0.000\n",
       "reviewerID         0.000\n",
       "reviewerName       0.363\n",
       "summary            0.000\n",
       "title              1.092\n",
       "unixReviewTime     0.000\n",
       "dtype: float64"
      ]
     },
     "execution_count": 6,
     "metadata": {},
     "output_type": "execute_result"
    }
   ],
   "source": [
    "# % of missing data\n",
    "df.isnull().mean() * 100"
   ]
  },
  {
   "cell_type": "markdown",
   "metadata": {},
   "source": [
    "**Handling the missing data.**<br>\n",
    "* We can drop the entries where we have missing data for **`reviewerName`** and **`title`**.\n",
    "* For **`brand`** and **`price`** columns, we can drop these columns because lot's of data is missing in both of these colums. It may not be good idea to try to fill in the missing data for moth of these columns. <br>\n",
    "\n",
    "Before me move on, let's have a quick look on the no. of unique values in each columns!"
   ]
  },
  {
   "cell_type": "code",
   "execution_count": 7,
   "metadata": {},
   "outputs": [
    {
     "name": "stdout",
     "output_type": "stream",
     "text": [
      "asin  :  14232\n",
      "brand  :  2026\n",
      "categories  :  2824\n",
      "helpful  :  894\n",
      "overall  :  5\n",
      "price  :  3061\n",
      "reviewText  :  99883\n",
      "reviewTime  :  3125\n",
      "reviewerID  :  95891\n",
      "reviewerName  :  81233\n",
      "summary  :  74919\n",
      "title  :  14141\n",
      "unixReviewTime  :  3125\n"
     ]
    }
   ],
   "source": [
    "for col in df.columns:\n",
    "    print(col,' : ', df[col].nunique())"
   ]
  },
  {
   "cell_type": "code",
   "execution_count": 8,
   "metadata": {
    "collapsed": true
   },
   "outputs": [],
   "source": [
    "#dropping price and brand colums\n",
    "df.drop(['price', 'brand'], axis = 1, inplace=True)"
   ]
  },
  {
   "cell_type": "markdown",
   "metadata": {
    "collapsed": true
   },
   "source": [
    "if __name__ == '__main__':\n",
    "    #inputs = sys.argv[1]\n",
    "    inputs = inputs_data\n",
    "    #model_file = sys.argv[2]\n",
    "    model_file = model_file\n",
    "    main(inputs,model_file)"
   ]
  },
  {
   "cell_type": "code",
   "execution_count": 9,
   "metadata": {
    "collapsed": true
   },
   "outputs": [],
   "source": [
    "df.dropna(inplace=True)"
   ]
  },
  {
   "cell_type": "code",
   "execution_count": 10,
   "metadata": {},
   "outputs": [
    {
     "name": "stdout",
     "output_type": "stream",
     "text": [
      "<class 'pandas.core.frame.DataFrame'>\n",
      "Int64Index: 98545 entries, 0 to 99999\n",
      "Data columns (total 11 columns):\n",
      "asin              98545 non-null object\n",
      "categories        98545 non-null object\n",
      "helpful           98545 non-null object\n",
      "overall           98545 non-null int64\n",
      "reviewText        98545 non-null object\n",
      "reviewTime        98545 non-null object\n",
      "reviewerID        98545 non-null object\n",
      "reviewerName      98545 non-null object\n",
      "summary           98545 non-null object\n",
      "title             98545 non-null object\n",
      "unixReviewTime    98545 non-null object\n",
      "dtypes: int64(1), object(10)\n",
      "memory usage: 9.0+ MB\n"
     ]
    }
   ],
   "source": [
    "df.info()"
   ]
  },
  {
   "cell_type": "markdown",
   "metadata": {},
   "source": [
    "**It might be good idea to change the column form 'overall' to 'rating'. I am creating new column with rating and dropping the overall column. **"
   ]
  },
  {
   "cell_type": "code",
   "execution_count": 11,
   "metadata": {
    "collapsed": true
   },
   "outputs": [],
   "source": [
    "df['rating'] = df['overall']"
   ]
  },
  {
   "cell_type": "code",
   "execution_count": 12,
   "metadata": {
    "collapsed": true
   },
   "outputs": [],
   "source": [
    "df.drop(['overall'], axis=1, inplace = True)"
   ]
  },
  {
   "cell_type": "code",
   "execution_count": 13,
   "metadata": {},
   "outputs": [
    {
     "name": "stdout",
     "output_type": "stream",
     "text": [
      "<class 'pandas.core.frame.DataFrame'>\n",
      "Int64Index: 98545 entries, 0 to 99999\n",
      "Data columns (total 11 columns):\n",
      "asin              98545 non-null object\n",
      "categories        98545 non-null object\n",
      "helpful           98545 non-null object\n",
      "reviewText        98545 non-null object\n",
      "reviewTime        98545 non-null object\n",
      "reviewerID        98545 non-null object\n",
      "reviewerName      98545 non-null object\n",
      "summary           98545 non-null object\n",
      "title             98545 non-null object\n",
      "unixReviewTime    98545 non-null object\n",
      "rating            98545 non-null int64\n",
      "dtypes: int64(1), object(10)\n",
      "memory usage: 9.0+ MB\n"
     ]
    }
   ],
   "source": [
    "df.info()"
   ]
  },
  {
   "cell_type": "code",
   "execution_count": 14,
   "metadata": {},
   "outputs": [
    {
     "data": {
      "text/plain": [
       "5    57604\n",
       "4    19536\n",
       "3     8524\n",
       "1     7624\n",
       "2     5257\n",
       "Name: rating, dtype: int64"
      ]
     },
     "execution_count": 14,
     "metadata": {},
     "output_type": "execute_result"
    }
   ],
   "source": [
    "df['rating'].value_counts()"
   ]
  },
  {
   "cell_type": "code",
   "execution_count": 15,
   "metadata": {},
   "outputs": [
    {
     "data": {
      "text/plain": [
       "array([5, 4, 3, 2, 1])"
      ]
     },
     "execution_count": 15,
     "metadata": {},
     "output_type": "execute_result"
    }
   ],
   "source": [
    "df['rating'].unique()"
   ]
  },
  {
   "cell_type": "markdown",
   "metadata": {},
   "source": [
    "## Some feature engineering\n",
    "Dealing with the `help` column. To simplify, 1 if some input, 0 if no input!"
   ]
  },
  {
   "cell_type": "code",
   "execution_count": 16,
   "metadata": {
    "collapsed": true
   },
   "outputs": [],
   "source": [
    "#df.to_csv('data_clean.csv', index = False)"
   ]
  },
  {
   "cell_type": "code",
   "execution_count": 17,
   "metadata": {
    "collapsed": true
   },
   "outputs": [],
   "source": [
    "#df['helpful'].values"
   ]
  },
  {
   "cell_type": "code",
   "execution_count": 18,
   "metadata": {
    "collapsed": true
   },
   "outputs": [],
   "source": [
    "#data[\"Team\"]= data[\"Team\"].str.split(\"t\", n = 1, expand = True)\n",
    "#df['help']= df['helpful'].str.split(',',n = 1, expand = True).get(0)#[0][1]\n",
    "#df['help'] = df.help[1]"
   ]
  },
  {
   "cell_type": "code",
   "execution_count": 19,
   "metadata": {
    "collapsed": true,
    "scrolled": false
   },
   "outputs": [],
   "source": [
    "def parse_help(value):\n",
    "    if value == '[0,0]':\n",
    "        return 0\n",
    "    else:\n",
    "        return 1"
   ]
  },
  {
   "cell_type": "code",
   "execution_count": 20,
   "metadata": {
    "collapsed": true
   },
   "outputs": [],
   "source": [
    "df['help'] = df['helpful'].apply(parse_help)"
   ]
  },
  {
   "cell_type": "code",
   "execution_count": 21,
   "metadata": {
    "collapsed": true
   },
   "outputs": [],
   "source": [
    "df.drop(['helpful'], axis=1, inplace=True)"
   ]
  },
  {
   "cell_type": "markdown",
   "metadata": {},
   "source": [
    "### New column `rev_len` for the leanght of the review"
   ]
  },
  {
   "cell_type": "code",
   "execution_count": 22,
   "metadata": {
    "collapsed": true,
    "scrolled": false
   },
   "outputs": [],
   "source": [
    "def len_review(value):\n",
    "    return len(value)"
   ]
  },
  {
   "cell_type": "code",
   "execution_count": 23,
   "metadata": {},
   "outputs": [
    {
     "data": {
      "text/plain": [
       "522"
      ]
     },
     "execution_count": 23,
     "metadata": {},
     "output_type": "execute_result"
    }
   ],
   "source": [
    "len(df.reviewText[0])"
   ]
  },
  {
   "cell_type": "code",
   "execution_count": 24,
   "metadata": {
    "collapsed": true
   },
   "outputs": [],
   "source": [
    "df['rev_len'] = df['reviewText'].apply(len_review)"
   ]
  },
  {
   "cell_type": "code",
   "execution_count": 25,
   "metadata": {},
   "outputs": [
    {
     "data": {
      "text/html": [
       "<div>\n",
       "<style>\n",
       "    .dataframe thead tr:only-child th {\n",
       "        text-align: right;\n",
       "    }\n",
       "\n",
       "    .dataframe thead th {\n",
       "        text-align: left;\n",
       "    }\n",
       "\n",
       "    .dataframe tbody tr th {\n",
       "        vertical-align: top;\n",
       "    }\n",
       "</style>\n",
       "<table border=\"1\" class=\"dataframe\">\n",
       "  <thead>\n",
       "    <tr style=\"text-align: right;\">\n",
       "      <th></th>\n",
       "      <th>asin</th>\n",
       "      <th>categories</th>\n",
       "      <th>reviewText</th>\n",
       "      <th>reviewTime</th>\n",
       "      <th>reviewerID</th>\n",
       "      <th>reviewerName</th>\n",
       "      <th>summary</th>\n",
       "      <th>title</th>\n",
       "      <th>unixReviewTime</th>\n",
       "      <th>rating</th>\n",
       "      <th>help</th>\n",
       "      <th>rev_len</th>\n",
       "    </tr>\n",
       "  </thead>\n",
       "  <tbody>\n",
       "    <tr>\n",
       "      <th>0</th>\n",
       "      <td>B00004WA57</td>\n",
       "      <td>[[\"Sports &amp; Outdoors\",\"Outdoor Gear\",\"Camping ...</td>\n",
       "      <td>I have own an E-Z out for over 16yrs and have ...</td>\n",
       "      <td>08 1, 2013</td>\n",
       "      <td>A2FLKB2RU011W5</td>\n",
       "      <td>Amazon Customer</td>\n",
       "      <td>E-Z Out</td>\n",
       "      <td>GERBER E-Z Out Skeleton - Serrated Edge - Mode...</td>\n",
       "      <td>2013-07-31T17:00:00.000-07:00</td>\n",
       "      <td>5</td>\n",
       "      <td>1</td>\n",
       "      <td>522</td>\n",
       "    </tr>\n",
       "    <tr>\n",
       "      <th>1</th>\n",
       "      <td>B00004WA57</td>\n",
       "      <td>[[\"Sports &amp; Outdoors\",\"Outdoor Gear\",\"Camping ...</td>\n",
       "      <td>Good product. Exactly what I ordered. Going to...</td>\n",
       "      <td>01 11, 2013</td>\n",
       "      <td>A1AO9Y7BTTEA4S</td>\n",
       "      <td>Anonymous</td>\n",
       "      <td>Great</td>\n",
       "      <td>GERBER E-Z Out Skeleton - Serrated Edge - Mode...</td>\n",
       "      <td>2013-01-10T16:00:00.000-08:00</td>\n",
       "      <td>5</td>\n",
       "      <td>0</td>\n",
       "      <td>131</td>\n",
       "    </tr>\n",
       "  </tbody>\n",
       "</table>\n",
       "</div>"
      ],
      "text/plain": [
       "         asin                                         categories  \\\n",
       "0  B00004WA57  [[\"Sports & Outdoors\",\"Outdoor Gear\",\"Camping ...   \n",
       "1  B00004WA57  [[\"Sports & Outdoors\",\"Outdoor Gear\",\"Camping ...   \n",
       "\n",
       "                                          reviewText   reviewTime  \\\n",
       "0  I have own an E-Z out for over 16yrs and have ...   08 1, 2013   \n",
       "1  Good product. Exactly what I ordered. Going to...  01 11, 2013   \n",
       "\n",
       "       reviewerID     reviewerName  summary  \\\n",
       "0  A2FLKB2RU011W5  Amazon Customer  E-Z Out   \n",
       "1  A1AO9Y7BTTEA4S        Anonymous    Great   \n",
       "\n",
       "                                               title  \\\n",
       "0  GERBER E-Z Out Skeleton - Serrated Edge - Mode...   \n",
       "1  GERBER E-Z Out Skeleton - Serrated Edge - Mode...   \n",
       "\n",
       "                  unixReviewTime  rating  help  rev_len  \n",
       "0  2013-07-31T17:00:00.000-07:00       5     1      522  \n",
       "1  2013-01-10T16:00:00.000-08:00       5     0      131  "
      ]
     },
     "execution_count": 25,
     "metadata": {},
     "output_type": "execute_result"
    }
   ],
   "source": [
    "df.head(2)"
   ]
  },
  {
   "cell_type": "markdown",
   "metadata": {},
   "source": [
    "### Creating new integer columns for asin and reviewerID.<br>"
   ]
  },
  {
   "cell_type": "code",
   "execution_count": 26,
   "metadata": {},
   "outputs": [
    {
     "data": {
      "text/plain": [
       "94518"
      ]
     },
     "execution_count": 26,
     "metadata": {},
     "output_type": "execute_result"
    }
   ],
   "source": [
    "# good idea to check how many unique reviewerID we have!\n",
    "#df.info()\n",
    "df['reviewerID'].nunique()#value_counts()"
   ]
  },
  {
   "cell_type": "code",
   "execution_count": 27,
   "metadata": {},
   "outputs": [
    {
     "data": {
      "text/plain": [
       "14133"
      ]
     },
     "execution_count": 27,
     "metadata": {},
     "output_type": "execute_result"
    }
   ],
   "source": [
    "#how many unique reviewerID we have!\n",
    "df['asin'].nunique()"
   ]
  },
  {
   "cell_type": "code",
   "execution_count": 28,
   "metadata": {
    "collapsed": true
   },
   "outputs": [],
   "source": [
    "df['reviewerID_code'] = df.reviewerID.astype('category').cat.codes\n",
    "df['asin_code'] = df.asin.astype('category').cat.codes"
   ]
  },
  {
   "cell_type": "code",
   "execution_count": 29,
   "metadata": {},
   "outputs": [
    {
     "data": {
      "text/plain": [
       "(94518, 14133)"
      ]
     },
     "execution_count": 29,
     "metadata": {},
     "output_type": "execute_result"
    }
   ],
   "source": [
    "df['reviewerID_code'].nunique(), df['asin_code'].nunique()"
   ]
  },
  {
   "cell_type": "code",
   "execution_count": 32,
   "metadata": {},
   "outputs": [
    {
     "data": {
      "text/html": [
       "<div>\n",
       "<style>\n",
       "    .dataframe thead tr:only-child th {\n",
       "        text-align: right;\n",
       "    }\n",
       "\n",
       "    .dataframe thead th {\n",
       "        text-align: left;\n",
       "    }\n",
       "\n",
       "    .dataframe tbody tr th {\n",
       "        vertical-align: top;\n",
       "    }\n",
       "</style>\n",
       "<table border=\"1\" class=\"dataframe\">\n",
       "  <thead>\n",
       "    <tr style=\"text-align: right;\">\n",
       "      <th></th>\n",
       "      <th>asin</th>\n",
       "      <th>categories</th>\n",
       "      <th>reviewText</th>\n",
       "      <th>reviewTime</th>\n",
       "      <th>reviewerID</th>\n",
       "      <th>reviewerName</th>\n",
       "      <th>summary</th>\n",
       "      <th>title</th>\n",
       "      <th>unixReviewTime</th>\n",
       "      <th>rating</th>\n",
       "      <th>help</th>\n",
       "      <th>rev_len</th>\n",
       "      <th>reviewerID_code</th>\n",
       "      <th>asin_code</th>\n",
       "    </tr>\n",
       "  </thead>\n",
       "  <tbody>\n",
       "    <tr>\n",
       "      <th>0</th>\n",
       "      <td>B00004WA57</td>\n",
       "      <td>[[\"Sports &amp; Outdoors\",\"Outdoor Gear\",\"Camping ...</td>\n",
       "      <td>I have own an E-Z out for over 16yrs and have ...</td>\n",
       "      <td>08 1, 2013</td>\n",
       "      <td>A2FLKB2RU011W5</td>\n",
       "      <td>Amazon Customer</td>\n",
       "      <td>E-Z Out</td>\n",
       "      <td>GERBER E-Z Out Skeleton - Serrated Edge - Mode...</td>\n",
       "      <td>2013-07-31T17:00:00.000-07:00</td>\n",
       "      <td>5</td>\n",
       "      <td>1</td>\n",
       "      <td>522</td>\n",
       "      <td>35934</td>\n",
       "      <td>14</td>\n",
       "    </tr>\n",
       "    <tr>\n",
       "      <th>1</th>\n",
       "      <td>B00004WA57</td>\n",
       "      <td>[[\"Sports &amp; Outdoors\",\"Outdoor Gear\",\"Camping ...</td>\n",
       "      <td>Good product. Exactly what I ordered. Going to...</td>\n",
       "      <td>01 11, 2013</td>\n",
       "      <td>A1AO9Y7BTTEA4S</td>\n",
       "      <td>Anonymous</td>\n",
       "      <td>Great</td>\n",
       "      <td>GERBER E-Z Out Skeleton - Serrated Edge - Mode...</td>\n",
       "      <td>2013-01-10T16:00:00.000-08:00</td>\n",
       "      <td>5</td>\n",
       "      <td>0</td>\n",
       "      <td>131</td>\n",
       "      <td>7460</td>\n",
       "      <td>14</td>\n",
       "    </tr>\n",
       "    <tr>\n",
       "      <th>2</th>\n",
       "      <td>B00004WA57</td>\n",
       "      <td>[[\"Sports &amp; Outdoors\",\"Outdoor Gear\",\"Camping ...</td>\n",
       "      <td>A good product, a must for outdoor enthusiasts...</td>\n",
       "      <td>02 23, 2014</td>\n",
       "      <td>A947DTVGAHEJX</td>\n",
       "      <td>Aryaputr...... \"Dhiraj\"</td>\n",
       "      <td>GERBER E-Z Out Skeleton - KNIFE</td>\n",
       "      <td>GERBER E-Z Out Skeleton - Serrated Edge - Mode...</td>\n",
       "      <td>2014-02-22T16:00:00.000-08:00</td>\n",
       "      <td>5</td>\n",
       "      <td>0</td>\n",
       "      <td>242</td>\n",
       "      <td>76091</td>\n",
       "      <td>14</td>\n",
       "    </tr>\n",
       "    <tr>\n",
       "      <th>3</th>\n",
       "      <td>B00004WA57</td>\n",
       "      <td>[[\"Sports &amp; Outdoors\",\"Outdoor Gear\",\"Camping ...</td>\n",
       "      <td>This knife if easy to use, and more importantl...</td>\n",
       "      <td>08 13, 2011</td>\n",
       "      <td>AIMP6GYOAIXHI</td>\n",
       "      <td>Bay Lady \"Bay Lady\"</td>\n",
       "      <td>Very pleased</td>\n",
       "      <td>GERBER E-Z Out Skeleton - Serrated Edge - Mode...</td>\n",
       "      <td>2011-08-12T17:00:00.000-07:00</td>\n",
       "      <td>5</td>\n",
       "      <td>0</td>\n",
       "      <td>110</td>\n",
       "      <td>82552</td>\n",
       "      <td>14</td>\n",
       "    </tr>\n",
       "    <tr>\n",
       "      <th>4</th>\n",
       "      <td>B00004WA57</td>\n",
       "      <td>[[\"Sports &amp; Outdoors\",\"Outdoor Gear\",\"Camping ...</td>\n",
       "      <td>This is the best knive ive had EVER.  It is sh...</td>\n",
       "      <td>06 30, 2014</td>\n",
       "      <td>A1ISFA63UQQQUE</td>\n",
       "      <td>Bill Blackwell</td>\n",
       "      <td>BEST KNIVE EVER</td>\n",
       "      <td>GERBER E-Z Out Skeleton - Serrated Edge - Mode...</td>\n",
       "      <td>2014-06-29T17:00:00.000-07:00</td>\n",
       "      <td>5</td>\n",
       "      <td>0</td>\n",
       "      <td>99</td>\n",
       "      <td>13071</td>\n",
       "      <td>14</td>\n",
       "    </tr>\n",
       "  </tbody>\n",
       "</table>\n",
       "</div>"
      ],
      "text/plain": [
       "         asin                                         categories  \\\n",
       "0  B00004WA57  [[\"Sports & Outdoors\",\"Outdoor Gear\",\"Camping ...   \n",
       "1  B00004WA57  [[\"Sports & Outdoors\",\"Outdoor Gear\",\"Camping ...   \n",
       "2  B00004WA57  [[\"Sports & Outdoors\",\"Outdoor Gear\",\"Camping ...   \n",
       "3  B00004WA57  [[\"Sports & Outdoors\",\"Outdoor Gear\",\"Camping ...   \n",
       "4  B00004WA57  [[\"Sports & Outdoors\",\"Outdoor Gear\",\"Camping ...   \n",
       "\n",
       "                                          reviewText   reviewTime  \\\n",
       "0  I have own an E-Z out for over 16yrs and have ...   08 1, 2013   \n",
       "1  Good product. Exactly what I ordered. Going to...  01 11, 2013   \n",
       "2  A good product, a must for outdoor enthusiasts...  02 23, 2014   \n",
       "3  This knife if easy to use, and more importantl...  08 13, 2011   \n",
       "4  This is the best knive ive had EVER.  It is sh...  06 30, 2014   \n",
       "\n",
       "       reviewerID             reviewerName                          summary  \\\n",
       "0  A2FLKB2RU011W5          Amazon Customer                          E-Z Out   \n",
       "1  A1AO9Y7BTTEA4S                Anonymous                            Great   \n",
       "2   A947DTVGAHEJX  Aryaputr...... \"Dhiraj\"  GERBER E-Z Out Skeleton - KNIFE   \n",
       "3   AIMP6GYOAIXHI      Bay Lady \"Bay Lady\"                     Very pleased   \n",
       "4  A1ISFA63UQQQUE           Bill Blackwell                  BEST KNIVE EVER   \n",
       "\n",
       "                                               title  \\\n",
       "0  GERBER E-Z Out Skeleton - Serrated Edge - Mode...   \n",
       "1  GERBER E-Z Out Skeleton - Serrated Edge - Mode...   \n",
       "2  GERBER E-Z Out Skeleton - Serrated Edge - Mode...   \n",
       "3  GERBER E-Z Out Skeleton - Serrated Edge - Mode...   \n",
       "4  GERBER E-Z Out Skeleton - Serrated Edge - Mode...   \n",
       "\n",
       "                  unixReviewTime  rating  help  rev_len  reviewerID_code  \\\n",
       "0  2013-07-31T17:00:00.000-07:00       5     1      522            35934   \n",
       "1  2013-01-10T16:00:00.000-08:00       5     0      131             7460   \n",
       "2  2014-02-22T16:00:00.000-08:00       5     0      242            76091   \n",
       "3  2011-08-12T17:00:00.000-07:00       5     0      110            82552   \n",
       "4  2014-06-29T17:00:00.000-07:00       5     0       99            13071   \n",
       "\n",
       "   asin_code  \n",
       "0         14  \n",
       "1         14  \n",
       "2         14  \n",
       "3         14  \n",
       "4         14  "
      ]
     },
     "execution_count": 32,
     "metadata": {},
     "output_type": "execute_result"
    }
   ],
   "source": [
    "df.head()"
   ]
  },
  {
   "cell_type": "code",
   "execution_count": 30,
   "metadata": {
    "scrolled": true
   },
   "outputs": [
    {
     "name": "stdout",
     "output_type": "stream",
     "text": [
      "<class 'pandas.core.frame.DataFrame'>\n",
      "Int64Index: 98545 entries, 0 to 99999\n",
      "Data columns (total 14 columns):\n",
      "asin               98545 non-null object\n",
      "categories         98545 non-null object\n",
      "reviewText         98545 non-null object\n",
      "reviewTime         98545 non-null object\n",
      "reviewerID         98545 non-null object\n",
      "reviewerName       98545 non-null object\n",
      "summary            98545 non-null object\n",
      "title              98545 non-null object\n",
      "unixReviewTime     98545 non-null object\n",
      "rating             98545 non-null int64\n",
      "help               98545 non-null int64\n",
      "rev_len            98545 non-null int64\n",
      "reviewerID_code    98545 non-null int32\n",
      "asin_code          98545 non-null int16\n",
      "dtypes: int16(1), int32(1), int64(3), object(9)\n",
      "memory usage: 12.8+ MB\n"
     ]
    }
   ],
   "source": [
    "df.info()"
   ]
  },
  {
   "cell_type": "markdown",
   "metadata": {},
   "source": [
    "## I think, the data is cleaned now, saving to csv for future use and EDA. "
   ]
  },
  {
   "cell_type": "code",
   "execution_count": 31,
   "metadata": {
    "collapsed": true
   },
   "outputs": [],
   "source": [
    "# We already have this file \n",
    "#df.to_csv('data_clean.csv', index = False)"
   ]
  },
  {
   "cell_type": "code",
   "execution_count": null,
   "metadata": {
    "collapsed": true
   },
   "outputs": [],
   "source": []
  }
 ],
 "metadata": {
  "kernelspec": {
   "display_name": "Python 3",
   "language": "python",
   "name": "python3"
  },
  "language_info": {
   "codemirror_mode": {
    "name": "ipython",
    "version": 3
   },
   "file_extension": ".py",
   "mimetype": "text/x-python",
   "name": "python",
   "nbconvert_exporter": "python",
   "pygments_lexer": "ipython3",
   "version": "3.6.1"
  }
 },
 "nbformat": 4,
 "nbformat_minor": 2
}
