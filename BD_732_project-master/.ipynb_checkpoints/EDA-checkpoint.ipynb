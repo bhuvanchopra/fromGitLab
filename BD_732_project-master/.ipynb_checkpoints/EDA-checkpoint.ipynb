{
 "cells": [
  {
   "cell_type": "markdown",
   "metadata": {},
   "source": [
    "# EDA -- Amazon Review Cleaned Dataset"
   ]
  },
  {
   "cell_type": "code",
   "execution_count": 134,
   "metadata": {
    "collapsed": true
   },
   "outputs": [],
   "source": [
    "import pandas as pd\n",
    "import json\n",
    "import numpy as np\n",
    "import matplotlib.pyplot as plt\n",
    "import seaborn as sns\n",
    "%matplotlib inline\n",
    "from sklearn import preprocessing\n",
    "sns.set_style('darkgrid')"
   ]
  },
  {
   "cell_type": "code",
   "execution_count": 135,
   "metadata": {
    "collapsed": true
   },
   "outputs": [],
   "source": [
    "df = pd.read_csv('data_clean.csv')"
   ]
  },
  {
   "cell_type": "code",
   "execution_count": 136,
   "metadata": {},
   "outputs": [
    {
     "data": {
      "text/html": [
       "<div>\n",
       "<style>\n",
       "    .dataframe thead tr:only-child th {\n",
       "        text-align: right;\n",
       "    }\n",
       "\n",
       "    .dataframe thead th {\n",
       "        text-align: left;\n",
       "    }\n",
       "\n",
       "    .dataframe tbody tr th {\n",
       "        vertical-align: top;\n",
       "    }\n",
       "</style>\n",
       "<table border=\"1\" class=\"dataframe\">\n",
       "  <thead>\n",
       "    <tr style=\"text-align: right;\">\n",
       "      <th></th>\n",
       "      <th>asin</th>\n",
       "      <th>categories</th>\n",
       "      <th>reviewText</th>\n",
       "      <th>reviewTime</th>\n",
       "      <th>reviewerID</th>\n",
       "      <th>reviewerName</th>\n",
       "      <th>summary</th>\n",
       "      <th>title</th>\n",
       "      <th>unixReviewTime</th>\n",
       "      <th>rating</th>\n",
       "      <th>help</th>\n",
       "      <th>rev_len</th>\n",
       "      <th>reviewerID_code</th>\n",
       "      <th>asin_code</th>\n",
       "    </tr>\n",
       "  </thead>\n",
       "  <tbody>\n",
       "    <tr>\n",
       "      <th>0</th>\n",
       "      <td>B00004WA57</td>\n",
       "      <td>[[\"Sports &amp; Outdoors\",\"Outdoor Gear\",\"Camping ...</td>\n",
       "      <td>I have own an E-Z out for over 16yrs and have ...</td>\n",
       "      <td>08 1, 2013</td>\n",
       "      <td>A2FLKB2RU011W5</td>\n",
       "      <td>Amazon Customer</td>\n",
       "      <td>E-Z Out</td>\n",
       "      <td>GERBER E-Z Out Skeleton - Serrated Edge - Mode...</td>\n",
       "      <td>2013-07-31T17:00:00.000-07:00</td>\n",
       "      <td>5</td>\n",
       "      <td>1</td>\n",
       "      <td>522</td>\n",
       "      <td>35934</td>\n",
       "      <td>14</td>\n",
       "    </tr>\n",
       "  </tbody>\n",
       "</table>\n",
       "</div>"
      ],
      "text/plain": [
       "         asin                                         categories  \\\n",
       "0  B00004WA57  [[\"Sports & Outdoors\",\"Outdoor Gear\",\"Camping ...   \n",
       "\n",
       "                                          reviewText  reviewTime  \\\n",
       "0  I have own an E-Z out for over 16yrs and have ...  08 1, 2013   \n",
       "\n",
       "       reviewerID     reviewerName  summary  \\\n",
       "0  A2FLKB2RU011W5  Amazon Customer  E-Z Out   \n",
       "\n",
       "                                               title  \\\n",
       "0  GERBER E-Z Out Skeleton - Serrated Edge - Mode...   \n",
       "\n",
       "                  unixReviewTime  rating  help  rev_len  reviewerID_code  \\\n",
       "0  2013-07-31T17:00:00.000-07:00       5     1      522            35934   \n",
       "\n",
       "   asin_code  \n",
       "0         14  "
      ]
     },
     "execution_count": 136,
     "metadata": {},
     "output_type": "execute_result"
    }
   ],
   "source": [
    "df.head(1)"
   ]
  },
  {
   "cell_type": "code",
   "execution_count": 137,
   "metadata": {
    "scrolled": true
   },
   "outputs": [
    {
     "data": {
      "text/html": [
       "<div>\n",
       "<style>\n",
       "    .dataframe thead tr:only-child th {\n",
       "        text-align: right;\n",
       "    }\n",
       "\n",
       "    .dataframe thead th {\n",
       "        text-align: left;\n",
       "    }\n",
       "\n",
       "    .dataframe tbody tr th {\n",
       "        vertical-align: top;\n",
       "    }\n",
       "</style>\n",
       "<table border=\"1\" class=\"dataframe\">\n",
       "  <thead>\n",
       "    <tr style=\"text-align: right;\">\n",
       "      <th></th>\n",
       "      <th>rating</th>\n",
       "      <th>help</th>\n",
       "      <th>rev_len</th>\n",
       "      <th>reviewerID_code</th>\n",
       "      <th>asin_code</th>\n",
       "    </tr>\n",
       "  </thead>\n",
       "  <tbody>\n",
       "    <tr>\n",
       "      <th>count</th>\n",
       "      <td>98545.000000</td>\n",
       "      <td>98545.000000</td>\n",
       "      <td>98545.000000</td>\n",
       "      <td>98545.000000</td>\n",
       "      <td>98545.000000</td>\n",
       "    </tr>\n",
       "    <tr>\n",
       "      <th>mean</th>\n",
       "      <td>4.159257</td>\n",
       "      <td>0.398143</td>\n",
       "      <td>351.947445</td>\n",
       "      <td>47281.972845</td>\n",
       "      <td>5556.903780</td>\n",
       "    </tr>\n",
       "    <tr>\n",
       "      <th>std</th>\n",
       "      <td>1.247146</td>\n",
       "      <td>0.489518</td>\n",
       "      <td>427.099073</td>\n",
       "      <td>27276.762944</td>\n",
       "      <td>4047.376934</td>\n",
       "    </tr>\n",
       "    <tr>\n",
       "      <th>min</th>\n",
       "      <td>1.000000</td>\n",
       "      <td>0.000000</td>\n",
       "      <td>0.000000</td>\n",
       "      <td>0.000000</td>\n",
       "      <td>0.000000</td>\n",
       "    </tr>\n",
       "    <tr>\n",
       "      <th>25%</th>\n",
       "      <td>4.000000</td>\n",
       "      <td>0.000000</td>\n",
       "      <td>136.000000</td>\n",
       "      <td>23669.000000</td>\n",
       "      <td>1879.000000</td>\n",
       "    </tr>\n",
       "    <tr>\n",
       "      <th>50%</th>\n",
       "      <td>5.000000</td>\n",
       "      <td>0.000000</td>\n",
       "      <td>216.000000</td>\n",
       "      <td>47263.000000</td>\n",
       "      <td>5037.000000</td>\n",
       "    </tr>\n",
       "    <tr>\n",
       "      <th>75%</th>\n",
       "      <td>5.000000</td>\n",
       "      <td>1.000000</td>\n",
       "      <td>399.000000</td>\n",
       "      <td>70910.000000</td>\n",
       "      <td>8759.000000</td>\n",
       "    </tr>\n",
       "    <tr>\n",
       "      <th>max</th>\n",
       "      <td>5.000000</td>\n",
       "      <td>1.000000</td>\n",
       "      <td>21514.000000</td>\n",
       "      <td>94517.000000</td>\n",
       "      <td>14132.000000</td>\n",
       "    </tr>\n",
       "  </tbody>\n",
       "</table>\n",
       "</div>"
      ],
      "text/plain": [
       "             rating          help       rev_len  reviewerID_code     asin_code\n",
       "count  98545.000000  98545.000000  98545.000000     98545.000000  98545.000000\n",
       "mean       4.159257      0.398143    351.947445     47281.972845   5556.903780\n",
       "std        1.247146      0.489518    427.099073     27276.762944   4047.376934\n",
       "min        1.000000      0.000000      0.000000         0.000000      0.000000\n",
       "25%        4.000000      0.000000    136.000000     23669.000000   1879.000000\n",
       "50%        5.000000      0.000000    216.000000     47263.000000   5037.000000\n",
       "75%        5.000000      1.000000    399.000000     70910.000000   8759.000000\n",
       "max        5.000000      1.000000  21514.000000     94517.000000  14132.000000"
      ]
     },
     "execution_count": 137,
     "metadata": {},
     "output_type": "execute_result"
    }
   ],
   "source": [
    "df.describe()"
   ]
  },
  {
   "cell_type": "code",
   "execution_count": 138,
   "metadata": {},
   "outputs": [
    {
     "name": "stdout",
     "output_type": "stream",
     "text": [
      "<class 'pandas.core.frame.DataFrame'>\n",
      "RangeIndex: 98545 entries, 0 to 98544\n",
      "Data columns (total 14 columns):\n",
      "asin               98545 non-null object\n",
      "categories         98545 non-null object\n",
      "reviewText         98501 non-null object\n",
      "reviewTime         98545 non-null object\n",
      "reviewerID         98545 non-null object\n",
      "reviewerName       98542 non-null object\n",
      "summary            98545 non-null object\n",
      "title              98545 non-null object\n",
      "unixReviewTime     98545 non-null object\n",
      "rating             98545 non-null int64\n",
      "help               98545 non-null int64\n",
      "rev_len            98545 non-null int64\n",
      "reviewerID_code    98545 non-null int64\n",
      "asin_code          98545 non-null int64\n",
      "dtypes: int64(5), object(9)\n",
      "memory usage: 10.5+ MB\n"
     ]
    }
   ],
   "source": [
    "df.info()"
   ]
  },
  {
   "cell_type": "markdown",
   "metadata": {},
   "source": [
    "### Let's see what is the quality of the products in the sports & outdoor section. More higher ratings means over all the quality of the products is good."
   ]
  },
  {
   "cell_type": "code",
   "execution_count": 140,
   "metadata": {},
   "outputs": [
    {
     "data": {
      "text/plain": [
       "<matplotlib.text.Text at 0x1a32af4278>"
      ]
     },
     "execution_count": 140,
     "metadata": {},
     "output_type": "execute_result"
    },
    {
     "data": {
      "image/png": "[encoded data removed]",
      "text/plain": [
       "<matplotlib.figure.Figure at 0x1a34435898>"
      ]
     },
     "metadata": {},
     "output_type": "display_data"
    }
   ],
   "source": [
    "rating_count = sns.countplot(x= 'rating', data = df)\n",
    "rating_count.set_xlabel('Star Rating', size = 14)\n",
    "rating_count.set_ylabel('No. of Ratings', size = 14)\n",
    "rating_count.set_title('Products in \"sports & outdoor\" section', size = 16)\n",
    "#rating_count.set_xticklabels([1,2,3,4,5],size = 12)\n",
    "#rating_count.set_yticklabels([1,2,3,4,5],size = 12)"
   ]
  },
  {
   "cell_type": "markdown",
   "metadata": {},
   "source": [
    "The plot above suggests that, overall, customers are happy with the products in Amazon's \"Sports & Outdoor\" section."
   ]
  },
  {
   "cell_type": "markdown",
   "metadata": {},
   "source": [
    "### As expected, most of the time people don't bother to tell if the reviews were helpful or not. Most of the customers leave the filed blank!"
   ]
  },
  {
   "cell_type": "code",
   "execution_count": 153,
   "metadata": {},
   "outputs": [
    {
     "data": {
      "text/plain": [
       "<matplotlib.text.Text at 0x1a2ce9b860>"
      ]
     },
     "execution_count": 153,
     "metadata": {},
     "output_type": "execute_result"
    },
    {
     "data": {
      "image/png": "[encoded data removed]",
      "text/plain": [
       "<matplotlib.figure.Figure at 0x1a202ad630>"
      ]
     },
     "metadata": {},
     "output_type": "display_data"
    }
   ],
   "source": [
    "rating_count = sns.countplot(x= 'help', data = df)\n",
    "rating_count.set_xticklabels(['No input', 'Some input'])\n",
    "rating_count.set_xlabel('Helpful', size = 14)\n",
    "rating_count.set_ylabel('No of inputs', size = 14)"
   ]
  },
  {
   "cell_type": "markdown",
   "metadata": {},
   "source": [
    "### Creating another dataframe `rating` to group the data with `asin` and getting mean of rating."
   ]
  },
  {
   "cell_type": "code",
   "execution_count": 13,
   "metadata": {
    "collapsed": true
   },
   "outputs": [],
   "source": [
    "rating = pd.DataFrame(df.groupby('asin')['rating'].mean())"
   ]
  },
  {
   "cell_type": "markdown",
   "metadata": {},
   "source": [
    "Let's add a new column n_ratings"
   ]
  },
  {
   "cell_type": "code",
   "execution_count": 14,
   "metadata": {},
   "outputs": [
    {
     "data": {
      "text/html": [
       "<div>\n",
       "<style>\n",
       "    .dataframe thead tr:only-child th {\n",
       "        text-align: right;\n",
       "    }\n",
       "\n",
       "    .dataframe thead th {\n",
       "        text-align: left;\n",
       "    }\n",
       "\n",
       "    .dataframe tbody tr th {\n",
       "        vertical-align: top;\n",
       "    }\n",
       "</style>\n",
       "<table border=\"1\" class=\"dataframe\">\n",
       "  <thead>\n",
       "    <tr style=\"text-align: right;\">\n",
       "      <th></th>\n",
       "      <th>rating</th>\n",
       "      <th>n_ratings</th>\n",
       "    </tr>\n",
       "    <tr>\n",
       "      <th>asin</th>\n",
       "      <th></th>\n",
       "      <th></th>\n",
       "    </tr>\n",
       "  </thead>\n",
       "  <tbody>\n",
       "    <tr>\n",
       "      <th>0000032034</th>\n",
       "      <td>3.666667</td>\n",
       "      <td>3</td>\n",
       "    </tr>\n",
       "    <tr>\n",
       "      <th>0965042138</th>\n",
       "      <td>4.333333</td>\n",
       "      <td>21</td>\n",
       "    </tr>\n",
       "    <tr>\n",
       "      <th>0970704615</th>\n",
       "      <td>1.000000</td>\n",
       "      <td>1</td>\n",
       "    </tr>\n",
       "    <tr>\n",
       "      <th>1300966947</th>\n",
       "      <td>5.000000</td>\n",
       "      <td>6</td>\n",
       "    </tr>\n",
       "    <tr>\n",
       "      <th>1553602110</th>\n",
       "      <td>5.000000</td>\n",
       "      <td>2</td>\n",
       "    </tr>\n",
       "  </tbody>\n",
       "</table>\n",
       "</div>"
      ],
      "text/plain": [
       "              rating  n_ratings\n",
       "asin                           \n",
       "0000032034  3.666667          3\n",
       "0965042138  4.333333         21\n",
       "0970704615  1.000000          1\n",
       "1300966947  5.000000          6\n",
       "1553602110  5.000000          2"
      ]
     },
     "execution_count": 14,
     "metadata": {},
     "output_type": "execute_result"
    }
   ],
   "source": [
    "rating['n_ratings'] = pd.DataFrame(df.groupby('asin')['rating'].count())\n",
    "rating.head()"
   ]
  },
  {
   "cell_type": "markdown",
   "metadata": {},
   "source": [
    "Plotting two histograms side-by-side, one for No. of ratings for the asin, n_ratings column, and the other for average rating which is rating column in the dataframe!<br>\n",
    "\n",
    "We can creates two subplots and unpacks the output array immediately!"
   ]
  },
  {
   "cell_type": "code",
   "execution_count": 15,
   "metadata": {},
   "outputs": [
    {
     "data": {
      "text/plain": [
       "<matplotlib.text.Text at 0x1a2116ff98>"
      ]
     },
     "execution_count": 15,
     "metadata": {},
     "output_type": "execute_result"
    },
    {
     "data": {
      "image/png": "[encoded data removed]",
      "text/plain": [
       "<matplotlib.figure.Figure at 0x1a229289b0>"
      ]
     },
     "metadata": {},
     "output_type": "display_data"
    }
   ],
   "source": [
    "f, (ax1, ax2) = plt.subplots(nrows=1, ncols=2, figsize=(10,4))\n",
    "\n",
    "# For no. of ratings \n",
    "ax1.set_title('No. of ratings')\n",
    "ax1.hist(rating['n_ratings'], bins =30);\n",
    "ax1.set_xlabel('No of ratings for a product')\n",
    "ax1.set_ylabel('No. of products / frequency')\n",
    "\n",
    "\n",
    "# For rating\n",
    "ax2.set_title('Rating')\n",
    "ax2.hist(rating['rating'], bins =30);\n",
    "ax2.set_xlabel('Rating (1 to 5)')\n",
    "ax2.set_ylabel('No. of products / frequency')"
   ]
  },
  {
   "cell_type": "markdown",
   "metadata": {},
   "source": [
    "On the left, looks like most of the products have 0 or 1 number of ratings! <br>\n",
    "\n",
    "On the right,\"Rating is actually the mean rating\", we see peaks at the whole numbers {1,2,3,4,5}. Usual act, most of the time people rate the things with the whole numbers. <br>\n",
    "\n",
    "There are some products with average 5 star rating, they might be outstanding or may got only few ratings. <br>\n",
    "We can also point out some products with really bad rating. However, most of the products got average rating between 3 and 4.<br>\n",
    "\n",
    "Let's check the relationship between rating and no. of rating with a seaborn jointplot().<br>\n",
    "As, we have rating and review of each product, so n_ratings is actually directly related to the sale of the certain product."
   ]
  },
  {
   "cell_type": "code",
   "execution_count": 119,
   "metadata": {},
   "outputs": [
    {
     "data": {
      "image/png": "[encoded data removed]",
      "text/plain": [
       "<matplotlib.figure.Figure at 0x1a34435be0>"
      ]
     },
     "metadata": {},
     "output_type": "display_data"
    }
   ],
   "source": [
    "joint_plot = sns.jointplot(x='rating',y='n_ratings',data=rating, alpha=0.5) \n",
    "\n",
    "# JointGrid has a convenience function\n",
    "joint_plot.set_axis_labels('Average Rating for each product', 'No. Sold', fontsize=14)\n",
    "# Dont't want pearsonr and p value on the plot\n",
    "joint_plot.ax_joint.legend_.remove()\n",
    "#plt.tight_layout()"
   ]
  },
  {
   "cell_type": "markdown",
   "metadata": {},
   "source": [
    "The joint plot looks ok!<br>\n",
    "More the number of rating a product will have, more average rating it gets.\n",
    "Good the product is, more people will buy it and the product will get more number of ratings / reviews. This is a normal act.<br>\n",
    "Another thing, 1 or 2 stars have fewer number of ratings."
   ]
  },
  {
   "cell_type": "markdown",
   "metadata": {},
   "source": [
    "** Any relation between ratings and length of the review? Let's plot from the original dataframe.**"
   ]
  },
  {
   "cell_type": "code",
   "execution_count": 120,
   "metadata": {},
   "outputs": [
    {
     "data": {
      "text/plain": [
       "Index(['asin', 'categories', 'reviewText', 'reviewTime', 'reviewerID',\n",
       "       'reviewerName', 'summary', 'title', 'unixReviewTime', 'rating', 'help',\n",
       "       'rev_len', 'reviewerID_code', 'asin_code'],\n",
       "      dtype='object')"
      ]
     },
     "execution_count": 120,
     "metadata": {},
     "output_type": "execute_result"
    }
   ],
   "source": [
    "df.columns"
   ]
  },
  {
   "cell_type": "code",
   "execution_count": 154,
   "metadata": {
    "collapsed": true,
    "scrolled": true
   },
   "outputs": [],
   "source": [
    "#plt.scatter(df['rating'], df['rev_len'])"
   ]
  },
  {
   "cell_type": "markdown",
   "metadata": {},
   "source": [
    "The plot above does not make much sense, need to normalize the data. Let's check how many star ratings exist in total. Need to groupby on ratings and mean for rev_len.<br>\n",
    "Remember, this is more related to user behaviour while rate the product. This is independent of the product!"
   ]
  },
  {
   "cell_type": "code",
   "execution_count": 122,
   "metadata": {
    "collapsed": true
   },
   "outputs": [],
   "source": [
    "rating_rev_relation = df.groupby('rating')['rev_len'].mean()"
   ]
  },
  {
   "cell_type": "code",
   "execution_count": 123,
   "metadata": {
    "collapsed": true
   },
   "outputs": [],
   "source": [
    "#df.groupby('rating')['asin'].count()"
   ]
  },
  {
   "cell_type": "code",
   "execution_count": 124,
   "metadata": {
    "collapsed": true
   },
   "outputs": [],
   "source": [
    "rating_rev_relation = pd.DataFrame(rating_rev_relation)"
   ]
  },
  {
   "cell_type": "code",
   "execution_count": 125,
   "metadata": {
    "collapsed": true
   },
   "outputs": [],
   "source": [
    "rating_rev_relation['Avg_Rev_Lenght']= rating_rev_relation['rev_len']\n",
    "rating_rev_relation.drop('rev_len', axis = 1, inplace =True)"
   ]
  },
  {
   "cell_type": "code",
   "execution_count": 126,
   "metadata": {
    "collapsed": true
   },
   "outputs": [],
   "source": [
    "rating_rev_relation['rating_count'] = df.groupby('rating')['asin'].count()"
   ]
  },
  {
   "cell_type": "markdown",
   "metadata": {},
   "source": [
    "To normalize, we need count on each rating and them divide the rev_len by that count. Let see the relationship looks like. "
   ]
  },
  {
   "cell_type": "code",
   "execution_count": 127,
   "metadata": {
    "scrolled": true
   },
   "outputs": [
    {
     "data": {
      "text/html": [
       "<div>\n",
       "<style>\n",
       "    .dataframe thead tr:only-child th {\n",
       "        text-align: right;\n",
       "    }\n",
       "\n",
       "    .dataframe thead th {\n",
       "        text-align: left;\n",
       "    }\n",
       "\n",
       "    .dataframe tbody tr th {\n",
       "        vertical-align: top;\n",
       "    }\n",
       "</style>\n",
       "<table border=\"1\" class=\"dataframe\">\n",
       "  <thead>\n",
       "    <tr style=\"text-align: right;\">\n",
       "      <th></th>\n",
       "      <th>Avg_Rev_Lenght</th>\n",
       "      <th>rating_count</th>\n",
       "    </tr>\n",
       "    <tr>\n",
       "      <th>rating</th>\n",
       "      <th></th>\n",
       "      <th></th>\n",
       "    </tr>\n",
       "  </thead>\n",
       "  <tbody>\n",
       "    <tr>\n",
       "      <th>1</th>\n",
       "      <td>371.372508</td>\n",
       "      <td>7624</td>\n",
       "    </tr>\n",
       "    <tr>\n",
       "      <th>2</th>\n",
       "      <td>396.302073</td>\n",
       "      <td>5257</td>\n",
       "    </tr>\n",
       "    <tr>\n",
       "      <th>3</th>\n",
       "      <td>401.459057</td>\n",
       "      <td>8524</td>\n",
       "    </tr>\n",
       "    <tr>\n",
       "      <th>4</th>\n",
       "      <td>397.707668</td>\n",
       "      <td>19536</td>\n",
       "    </tr>\n",
       "    <tr>\n",
       "      <th>5</th>\n",
       "      <td>322.482866</td>\n",
       "      <td>57604</td>\n",
       "    </tr>\n",
       "  </tbody>\n",
       "</table>\n",
       "</div>"
      ],
      "text/plain": [
       "        Avg_Rev_Lenght  rating_count\n",
       "rating                              \n",
       "1           371.372508          7624\n",
       "2           396.302073          5257\n",
       "3           401.459057          8524\n",
       "4           397.707668         19536\n",
       "5           322.482866         57604"
      ]
     },
     "execution_count": 127,
     "metadata": {},
     "output_type": "execute_result"
    }
   ],
   "source": [
    "rating_rev_relation.head()"
   ]
  },
  {
   "cell_type": "markdown",
   "metadata": {},
   "source": [
    "### Plot review count against (above dataframe) start rating, looks like people giving higher star are happy to put some text in for review!"
   ]
  },
  {
   "cell_type": "code",
   "execution_count": 128,
   "metadata": {
    "collapsed": true
   },
   "outputs": [],
   "source": [
    "#rating_rev_relation['normalize'] = rating_rev_relation['Avg_Rev_Lenght']/rating_rev_relation['rating_count']"
   ]
  },
  {
   "cell_type": "code",
   "execution_count": 129,
   "metadata": {
    "collapsed": true
   },
   "outputs": [],
   "source": [
    "#rating_rev_relation.head()"
   ]
  },
  {
   "cell_type": "code",
   "execution_count": 133,
   "metadata": {},
   "outputs": [
    {
     "data": {
      "text/plain": [
       "(300, 420)"
      ]
     },
     "execution_count": 133,
     "metadata": {},
     "output_type": "execute_result"
    },
    {
     "data": {
      "image/png": "[encoded data removed]",
      "text/plain": [
       "<matplotlib.figure.Figure at 0x1a2d8db828>"
      ]
     },
     "metadata": {},
     "output_type": "display_data"
    }
   ],
   "source": [
    "plt.scatter(rating_rev_relation.index, rating_rev_relation.Avg_Rev_Lenght)\n",
    "plt.xlabel('Start Rating', size = 14)\n",
    "plt.ylabel('Avg. review lenght', size = 14)\n",
    "plt.ylim(300, 420)"
   ]
  },
  {
   "cell_type": "markdown",
   "metadata": {},
   "source": [
    "From the above plot, we see that when people are happy about the product, they usually leave smaller length comments.  <br>\n",
    "Initially, I was thinking that people usually leave longer reviews with higher star rating, which is not what I found.<br>\n",
    "### Let's try to see if we can train our Machine Learning model to predict the star rating from reviews."
   ]
  },
  {
   "cell_type": "code",
   "execution_count": null,
   "metadata": {
    "collapsed": true
   },
   "outputs": [],
   "source": []
  }
 ],
 "metadata": {
  "kernelspec": {
   "display_name": "Python 3",
   "language": "python",
   "name": "python3"
  },
  "language_info": {
   "codemirror_mode": {
    "name": "ipython",
    "version": 3
   },
   "file_extension": ".py",
   "mimetype": "text/x-python",
   "name": "python",
   "nbconvert_exporter": "python",
   "pygments_lexer": "ipython3",
   "version": "3.6.1"
  }
 },
 "nbformat": 4,
 "nbformat_minor": 2
}
