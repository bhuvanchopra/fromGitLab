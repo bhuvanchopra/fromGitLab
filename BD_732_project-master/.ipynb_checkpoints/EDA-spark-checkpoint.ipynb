{
 "cells": [
  {
   "cell_type": "code",
   "execution_count": 4,
   "metadata": {
    "collapsed": true
   },
   "outputs": [],
   "source": [
    "import sys\n",
    "assert sys.version_info >= (3, 5)  # make sure we have Python 3.5+\n",
    "from pyspark.sql import SparkSession, functions, types, SQLContext\n",
    "spark = SparkSession.builder.appName('BD_Project_EDA').getOrCreate()\n",
    "#spark = SparkSession.builder.appName('weather test').getOrCreate()\n",
    "#spark = SparkSession.builder.appName('weather tomorrow').getOrCreate()\n",
    "spark.sparkContext.setLogLevel('WARN')\n",
    "assert spark.version >= '2.3'  # make sure we have Spark 2.3+\n",
    "\n",
    "#from pyspark.ml import Pipeline\n",
    "#from pyspark.ml.feature import StringIndexer, VectorAssembler, SQLTransformer\n",
    "#from pyspark.ml.regression import GBTRegressor, RandomForestRegressor, DecisionTreeRegressor\n",
    "#from pyspark.ml.evaluation import RegressionEvaluator\n",
    "#from pyspark.sql.functions import dayofyear"
   ]
  },
  {
   "cell_type": "code",
   "execution_count": 5,
   "metadata": {
    "collapsed": true
   },
   "outputs": [],
   "source": [
    "inputs_data = '/Users/junaidqazi-13/Desktop/_SFU_MS_BigData/Sem_1/BigData_Prog_1_732/project/BD_732_project/data.json'"
   ]
  },
  {
   "cell_type": "markdown",
   "metadata": {},
   "source": [
    "Looks like there is missing data, lets check how much data is missing!<br>\n",
    "Suggestion:<br>\n",
    "* We can drop the entries where we have missing data for `reviewerName` and `title`.\n",
    "* For `brand` and `price` columns, we need to drop these columns. I don't see any reason to fill in the values with some averages or random brand!  **  Will discuss**\n",
    "<br>\n",
    "* asin               0.000\n",
    "* brand             **49.033%**\n",
    "* categories         0.000\n",
    "* helpful            0.000\n",
    "* overall            0.000\n",
    "* price             **31.231%**\n",
    "* reviewText         0.000\n",
    "* reviewTime         0.000\n",
    "* reviewerID         0.000\n",
    "* reviewerName       **0.363%**\n",
    "* summary            **0.000%**\n",
    "* title              1.092\n",
    "* unixReviewTime     0.000<br>\n",
    "We can drop all the rows with missing data along with columns `brand` and `price`"
   ]
  },
  {
   "cell_type": "code",
   "execution_count": 74,
   "metadata": {
    "collapsed": true
   },
   "outputs": [],
   "source": [
    "def main(inputs_data):\n",
    "    df = spark.read.json (inputs_data)\n",
    "    #df.show()\n",
    "    #df.printSchema()\n",
    "    #df.describe().show()\n",
    "    df = df.drop('brand', 'price')\n",
    "    df = df.dropna()\n",
    "    #df.describe().show()\n",
    "    df.write.csv('output.csv',header = True, mode = 'overwrite')\n",
    "    #df.describe().show()\n",
    "   "
   ]
  },
  {
   "cell_type": "code",
   "execution_count": 75,
   "metadata": {},
   "outputs": [],
   "source": [
    "if __name__ == '__main__':\n",
    "    #inputs = sys.argv[1]\n",
    "    inputs = inputs_data\n",
    "    #model_file = sys.argv[2]\n",
    "    #model_file = model_file\n",
    "    main(inputs_data)#,model_file)"
   ]
  },
  {
   "cell_type": "code",
   "execution_count": null,
   "metadata": {},
   "outputs": [],
   "source": []
  },
  {
   "cell_type": "code",
   "execution_count": null,
   "metadata": {
    "collapsed": true
   },
   "outputs": [],
   "source": []
  },
  {
   "cell_type": "code",
   "execution_count": null,
   "metadata": {
    "collapsed": true
   },
   "outputs": [],
   "source": []
  },
  {
   "cell_type": "code",
   "execution_count": null,
   "metadata": {
    "collapsed": true
   },
   "outputs": [],
   "source": []
  },
  {
   "cell_type": "code",
   "execution_count": null,
   "metadata": {
    "collapsed": true
   },
   "outputs": [],
   "source": []
  },
  {
   "cell_type": "code",
   "execution_count": 7,
   "metadata": {},
   "outputs": [],
   "source": [
    "df = spark.read.json (inputs_data)"
   ]
  },
  {
   "cell_type": "code",
   "execution_count": 18,
   "metadata": {},
   "outputs": [
    {
     "name": "stdout",
     "output_type": "stream",
     "text": [
      "root\n",
      " |-- asin: string (nullable = true)\n",
      " |-- brand: string (nullable = true)\n",
      " |-- categories: string (nullable = true)\n",
      " |-- helpful: string (nullable = true)\n",
      " |-- overall: double (nullable = true)\n",
      " |-- price: double (nullable = true)\n",
      " |-- reviewText: string (nullable = true)\n",
      " |-- reviewTime: string (nullable = true)\n",
      " |-- reviewerID: string (nullable = true)\n",
      " |-- reviewerName: string (nullable = true)\n",
      " |-- summary: string (nullable = true)\n",
      " |-- title: string (nullable = true)\n",
      " |-- unixReviewTime: string (nullable = true)\n",
      "\n"
     ]
    }
   ],
   "source": [
    "df.printSchema()"
   ]
  },
  {
   "cell_type": "code",
   "execution_count": 26,
   "metadata": {},
   "outputs": [
    {
     "name": "stdout",
     "output_type": "stream",
     "text": [
      "+-------+-------------------+------------------+--------------------+--------+------------------+-----------------+--------------------+----------+--------------------+-------------------+--------------------+--------------------+--------------------+\n",
      "|summary|               asin|             brand|          categories| helpful|           overall|            price|          reviewText|reviewTime|          reviewerID|       reviewerName|             summary|               title|      unixReviewTime|\n",
      "+-------+-------------------+------------------+--------------------+--------+------------------+-----------------+--------------------+----------+--------------------+-------------------+--------------------+--------------------+--------------------+\n",
      "|  count|             100000|             50967|              100000|  100000|            100000|            68769|              100000|    100000|              100000|              99637|              100000|               98908|              100000|\n",
      "|   mean|9.468661473846154E8| 37.53333333333334|                null|    null|           4.15663|52.09345664470436|                null|      null|                null| 6.93011401108108E7|              2648.0|           3020169.0|                null|\n",
      "| stddev|2.879439757814361E8|148.58237928278484|                null|    null|1.2483639802662785|88.91003065812643|                null|      null|                null|4.213925747144552E8|  3324.2958867792054|  1688325.2378673963|                null|\n",
      "|    min|         0000032034|                  |[[\"Automotive\",\"M...|   [0,0]|               1.0|             0.01|                    |01 1, 2007|A0000196KBA0ICH151EG|                \u001a\u001a\u001a|                   !|! Small S 1pc Pur...|2000-08-09T17:00:...|\n",
      "|    max|         B00L93TQNO|            uxcell|[[\"Tools & Home I...|[99,114]|               5.0|           999.99|~~ Although my re...|12 9, 2013|       AZZZLEWME5G74|             ~~SW~~|~ SHARP AS A RAZO...|wb_6350_1 Janna S...|2014-07-22T17:00:...|\n",
      "+-------+-------------------+------------------+--------------------+--------+------------------+-----------------+--------------------+----------+--------------------+-------------------+--------------------+--------------------+--------------------+\n",
      "\n"
     ]
    }
   ],
   "source": [
    "df.describe().show()#count()"
   ]
  },
  {
   "cell_type": "code",
   "execution_count": null,
   "metadata": {
    "collapsed": true
   },
   "outputs": [],
   "source": []
  },
  {
   "cell_type": "code",
   "execution_count": null,
   "metadata": {
    "collapsed": true
   },
   "outputs": [],
   "source": []
  },
  {
   "cell_type": "code",
   "execution_count": 17,
   "metadata": {},
   "outputs": [
    {
     "name": "stdout",
     "output_type": "stream",
     "text": [
      "+----------+\n",
      "|      asin|\n",
      "+----------+\n",
      "|B00004WA57|\n",
      "|B00004WA57|\n",
      "|B00004WA57|\n",
      "|B00004WA57|\n",
      "|B00004WA57|\n",
      "|B00004WA57|\n",
      "|B00004WA57|\n",
      "|B00004WA57|\n",
      "|B00004WA57|\n",
      "|B00004WA57|\n",
      "|B00004WA57|\n",
      "|B00004WA57|\n",
      "|B00004WA57|\n",
      "|B00004WA57|\n",
      "|B00004WA57|\n",
      "|B00004WA57|\n",
      "|B00004WA57|\n",
      "|B00004WA57|\n",
      "|B00004WA57|\n",
      "|B00004WA57|\n",
      "+----------+\n",
      "only showing top 20 rows\n",
      "\n"
     ]
    }
   ],
   "source": [
    "df.select(['asin']).show()"
   ]
  },
  {
   "cell_type": "code",
   "execution_count": 7,
   "metadata": {
    "collapsed": true
   },
   "outputs": [],
   "source": [
    "import pandas as pd\n",
    "import json\n",
    "import numpy as np\n",
    "import matplotlib.pyplot as plt\n",
    "import seaborn as sns\n",
    "%matplotlib inline"
   ]
  },
  {
   "cell_type": "code",
   "execution_count": 12,
   "metadata": {
    "collapsed": true
   },
   "outputs": [],
   "source": [
    "df = pd.read_json('data.json', lines=True)"
   ]
  },
  {
   "cell_type": "code",
   "execution_count": 13,
   "metadata": {},
   "outputs": [
    {
     "data": {
      "text/html": [
       "<div>\n",
       "<style>\n",
       "    .dataframe thead tr:only-child th {\n",
       "        text-align: right;\n",
       "    }\n",
       "\n",
       "    .dataframe thead th {\n",
       "        text-align: left;\n",
       "    }\n",
       "\n",
       "    .dataframe tbody tr th {\n",
       "        vertical-align: top;\n",
       "    }\n",
       "</style>\n",
       "<table border=\"1\" class=\"dataframe\">\n",
       "  <thead>\n",
       "    <tr style=\"text-align: right;\">\n",
       "      <th></th>\n",
       "      <th>asin</th>\n",
       "      <th>brand</th>\n",
       "      <th>categories</th>\n",
       "      <th>helpful</th>\n",
       "      <th>overall</th>\n",
       "      <th>price</th>\n",
       "      <th>reviewText</th>\n",
       "      <th>reviewTime</th>\n",
       "      <th>reviewerID</th>\n",
       "      <th>reviewerName</th>\n",
       "      <th>summary</th>\n",
       "      <th>title</th>\n",
       "      <th>unixReviewTime</th>\n",
       "    </tr>\n",
       "  </thead>\n",
       "  <tbody>\n",
       "    <tr>\n",
       "      <th>0</th>\n",
       "      <td>B00004WA57</td>\n",
       "      <td>Gerber Blades</td>\n",
       "      <td>[[\"Sports &amp; Outdoors\",\"Outdoor Gear\",\"Camping ...</td>\n",
       "      <td>[2,3]</td>\n",
       "      <td>5</td>\n",
       "      <td>25.94</td>\n",
       "      <td>I have own an E-Z out for over 16yrs and have ...</td>\n",
       "      <td>08 1, 2013</td>\n",
       "      <td>A2FLKB2RU011W5</td>\n",
       "      <td>Amazon Customer</td>\n",
       "      <td>E-Z Out</td>\n",
       "      <td>GERBER E-Z Out Skeleton - Serrated Edge - Mode...</td>\n",
       "      <td>2013-07-31T17:00:00.000-07:00</td>\n",
       "    </tr>\n",
       "    <tr>\n",
       "      <th>1</th>\n",
       "      <td>B00004WA57</td>\n",
       "      <td>Gerber Blades</td>\n",
       "      <td>[[\"Sports &amp; Outdoors\",\"Outdoor Gear\",\"Camping ...</td>\n",
       "      <td>[0,0]</td>\n",
       "      <td>5</td>\n",
       "      <td>25.94</td>\n",
       "      <td>Good product. Exactly what I ordered. Going to...</td>\n",
       "      <td>01 11, 2013</td>\n",
       "      <td>A1AO9Y7BTTEA4S</td>\n",
       "      <td>Anonymous</td>\n",
       "      <td>Great</td>\n",
       "      <td>GERBER E-Z Out Skeleton - Serrated Edge - Mode...</td>\n",
       "      <td>2013-01-10T16:00:00.000-08:00</td>\n",
       "    </tr>\n",
       "    <tr>\n",
       "      <th>2</th>\n",
       "      <td>B00004WA57</td>\n",
       "      <td>Gerber Blades</td>\n",
       "      <td>[[\"Sports &amp; Outdoors\",\"Outdoor Gear\",\"Camping ...</td>\n",
       "      <td>[0,0]</td>\n",
       "      <td>5</td>\n",
       "      <td>25.94</td>\n",
       "      <td>A good product, a must for outdoor enthusiasts...</td>\n",
       "      <td>02 23, 2014</td>\n",
       "      <td>A947DTVGAHEJX</td>\n",
       "      <td>Aryaputr...... \"Dhiraj\"</td>\n",
       "      <td>GERBER E-Z Out Skeleton - KNIFE</td>\n",
       "      <td>GERBER E-Z Out Skeleton - Serrated Edge - Mode...</td>\n",
       "      <td>2014-02-22T16:00:00.000-08:00</td>\n",
       "    </tr>\n",
       "    <tr>\n",
       "      <th>3</th>\n",
       "      <td>B00004WA57</td>\n",
       "      <td>Gerber Blades</td>\n",
       "      <td>[[\"Sports &amp; Outdoors\",\"Outdoor Gear\",\"Camping ...</td>\n",
       "      <td>[0,0]</td>\n",
       "      <td>5</td>\n",
       "      <td>25.94</td>\n",
       "      <td>This knife if easy to use, and more importantl...</td>\n",
       "      <td>08 13, 2011</td>\n",
       "      <td>AIMP6GYOAIXHI</td>\n",
       "      <td>Bay Lady \"Bay Lady\"</td>\n",
       "      <td>Very pleased</td>\n",
       "      <td>GERBER E-Z Out Skeleton - Serrated Edge - Mode...</td>\n",
       "      <td>2011-08-12T17:00:00.000-07:00</td>\n",
       "    </tr>\n",
       "    <tr>\n",
       "      <th>4</th>\n",
       "      <td>B00004WA57</td>\n",
       "      <td>Gerber Blades</td>\n",
       "      <td>[[\"Sports &amp; Outdoors\",\"Outdoor Gear\",\"Camping ...</td>\n",
       "      <td>[0,0]</td>\n",
       "      <td>5</td>\n",
       "      <td>25.94</td>\n",
       "      <td>This is the best knive ive had EVER.  It is sh...</td>\n",
       "      <td>06 30, 2014</td>\n",
       "      <td>A1ISFA63UQQQUE</td>\n",
       "      <td>Bill Blackwell</td>\n",
       "      <td>BEST KNIVE EVER</td>\n",
       "      <td>GERBER E-Z Out Skeleton - Serrated Edge - Mode...</td>\n",
       "      <td>2014-06-29T17:00:00.000-07:00</td>\n",
       "    </tr>\n",
       "  </tbody>\n",
       "</table>\n",
       "</div>"
      ],
      "text/plain": [
       "         asin          brand  \\\n",
       "0  B00004WA57  Gerber Blades   \n",
       "1  B00004WA57  Gerber Blades   \n",
       "2  B00004WA57  Gerber Blades   \n",
       "3  B00004WA57  Gerber Blades   \n",
       "4  B00004WA57  Gerber Blades   \n",
       "\n",
       "                                          categories helpful  overall  price  \\\n",
       "0  [[\"Sports & Outdoors\",\"Outdoor Gear\",\"Camping ...   [2,3]        5  25.94   \n",
       "1  [[\"Sports & Outdoors\",\"Outdoor Gear\",\"Camping ...   [0,0]        5  25.94   \n",
       "2  [[\"Sports & Outdoors\",\"Outdoor Gear\",\"Camping ...   [0,0]        5  25.94   \n",
       "3  [[\"Sports & Outdoors\",\"Outdoor Gear\",\"Camping ...   [0,0]        5  25.94   \n",
       "4  [[\"Sports & Outdoors\",\"Outdoor Gear\",\"Camping ...   [0,0]        5  25.94   \n",
       "\n",
       "                                          reviewText   reviewTime  \\\n",
       "0  I have own an E-Z out for over 16yrs and have ...   08 1, 2013   \n",
       "1  Good product. Exactly what I ordered. Going to...  01 11, 2013   \n",
       "2  A good product, a must for outdoor enthusiasts...  02 23, 2014   \n",
       "3  This knife if easy to use, and more importantl...  08 13, 2011   \n",
       "4  This is the best knive ive had EVER.  It is sh...  06 30, 2014   \n",
       "\n",
       "       reviewerID             reviewerName                          summary  \\\n",
       "0  A2FLKB2RU011W5          Amazon Customer                          E-Z Out   \n",
       "1  A1AO9Y7BTTEA4S                Anonymous                            Great   \n",
       "2   A947DTVGAHEJX  Aryaputr...... \"Dhiraj\"  GERBER E-Z Out Skeleton - KNIFE   \n",
       "3   AIMP6GYOAIXHI      Bay Lady \"Bay Lady\"                     Very pleased   \n",
       "4  A1ISFA63UQQQUE           Bill Blackwell                  BEST KNIVE EVER   \n",
       "\n",
       "                                               title  \\\n",
       "0  GERBER E-Z Out Skeleton - Serrated Edge - Mode...   \n",
       "1  GERBER E-Z Out Skeleton - Serrated Edge - Mode...   \n",
       "2  GERBER E-Z Out Skeleton - Serrated Edge - Mode...   \n",
       "3  GERBER E-Z Out Skeleton - Serrated Edge - Mode...   \n",
       "4  GERBER E-Z Out Skeleton - Serrated Edge - Mode...   \n",
       "\n",
       "                  unixReviewTime  \n",
       "0  2013-07-31T17:00:00.000-07:00  \n",
       "1  2013-01-10T16:00:00.000-08:00  \n",
       "2  2014-02-22T16:00:00.000-08:00  \n",
       "3  2011-08-12T17:00:00.000-07:00  \n",
       "4  2014-06-29T17:00:00.000-07:00  "
      ]
     },
     "execution_count": 13,
     "metadata": {},
     "output_type": "execute_result"
    }
   ],
   "source": [
    "df.head()"
   ]
  },
  {
   "cell_type": "code",
   "execution_count": 14,
   "metadata": {
    "collapsed": true
   },
   "outputs": [],
   "source": [
    "#df.to_csv('data_csv.csv')"
   ]
  },
  {
   "cell_type": "code",
   "execution_count": 15,
   "metadata": {},
   "outputs": [
    {
     "name": "stdout",
     "output_type": "stream",
     "text": [
      "<class 'pandas.core.frame.DataFrame'>\n",
      "Int64Index: 100000 entries, 0 to 99999\n",
      "Data columns (total 13 columns):\n",
      "asin              100000 non-null object\n",
      "brand             50967 non-null object\n",
      "categories        100000 non-null object\n",
      "helpful           100000 non-null object\n",
      "overall           100000 non-null int64\n",
      "price             68769 non-null float64\n",
      "reviewText        100000 non-null object\n",
      "reviewTime        100000 non-null object\n",
      "reviewerID        100000 non-null object\n",
      "reviewerName      99637 non-null object\n",
      "summary           100000 non-null object\n",
      "title             98908 non-null object\n",
      "unixReviewTime    100000 non-null object\n",
      "dtypes: float64(1), int64(1), object(11)\n",
      "memory usage: 10.7+ MB\n"
     ]
    }
   ],
   "source": [
    "df.info()"
   ]
  },
  {
   "cell_type": "markdown",
   "metadata": {},
   "source": [
    "Looks like there is missing data, lets check how much data is missing!<br>\n",
    "Suggestion:<br>\n",
    "* We can drop the entries where we have missing data for `reviewerName` and `title`.\n",
    "* For `brand` and `price` columns, we need to drop these columns. I don't see any reason to fill in the values with some averages or random brand!  **  Will discuss**"
   ]
  },
  {
   "cell_type": "code",
   "execution_count": 32,
   "metadata": {},
   "outputs": [
    {
     "data": {
      "text/plain": [
       "asin               0.000\n",
       "brand             49.033\n",
       "categories         0.000\n",
       "helpful            0.000\n",
       "overall            0.000\n",
       "price             31.231\n",
       "reviewText         0.000\n",
       "reviewTime         0.000\n",
       "reviewerID         0.000\n",
       "reviewerName       0.363\n",
       "summary            0.000\n",
       "title              1.092\n",
       "unixReviewTime     0.000\n",
       "dtype: float64"
      ]
     },
     "execution_count": 32,
     "metadata": {},
     "output_type": "execute_result"
    }
   ],
   "source": [
    "# % of missing data\n",
    "df.isnull().mean() * 100"
   ]
  },
  {
   "cell_type": "markdown",
   "metadata": {},
   "source": [
    "We need to do some data mining, lots of data is missing."
   ]
  },
  {
   "cell_type": "code",
   "execution_count": 42,
   "metadata": {},
   "outputs": [
    {
     "name": "stdout",
     "output_type": "stream",
     "text": [
      "asin  :  14232\n",
      "brand  :  2026\n",
      "categories  :  2824\n",
      "helpful  :  894\n",
      "overall  :  5\n",
      "price  :  3061\n",
      "reviewText  :  99883\n",
      "reviewTime  :  3125\n",
      "reviewerID  :  95891\n",
      "reviewerName  :  81233\n",
      "summary  :  74919\n",
      "title  :  14141\n",
      "unixReviewTime  :  3125\n"
     ]
    }
   ],
   "source": [
    "for col in df.columns:\n",
    "    print(col,' : ', df[col].nunique())"
   ]
  },
  {
   "cell_type": "code",
   "execution_count": null,
   "metadata": {
    "collapsed": true
   },
   "outputs": [],
   "source": []
  },
  {
   "cell_type": "markdown",
   "metadata": {
    "collapsed": true
   },
   "source": [
    "if __name__ == '__main__':\n",
    "    #inputs = sys.argv[1]\n",
    "    inputs = inputs_data\n",
    "    #model_file = sys.argv[2]\n",
    "    model_file = model_file\n",
    "    main(inputs,model_file)"
   ]
  },
  {
   "cell_type": "code",
   "execution_count": null,
   "metadata": {
    "collapsed": true
   },
   "outputs": [],
   "source": []
  }
 ],
 "metadata": {
  "kernelspec": {
   "display_name": "Python 3",
   "language": "python",
   "name": "python3"
  },
  "language_info": {
   "codemirror_mode": {
    "name": "ipython",
    "version": 3
   },
   "file_extension": ".py",
   "mimetype": "text/x-python",
   "name": "python",
   "nbconvert_exporter": "python",
   "pygments_lexer": "ipython3",
   "version": "3.6.1"
  }
 },
 "nbformat": 4,
 "nbformat_minor": 2
}
