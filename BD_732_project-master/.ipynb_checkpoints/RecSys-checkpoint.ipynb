{
 "cells": [
  {
   "cell_type": "code",
   "execution_count": 2,
   "metadata": {
    "collapsed": true
   },
   "outputs": [],
   "source": [
    "import pandas as pd\n",
    "import json\n",
    "import numpy as np\n",
    "import matplotlib.pyplot as plt\n",
    "import seaborn as sns\n",
    "%matplotlib inline"
   ]
  },
  {
   "cell_type": "code",
   "execution_count": 51,
   "metadata": {
    "collapsed": true
   },
   "outputs": [],
   "source": [
    "#df = pd.read_csv('data_clean.csv')\n",
    "input_file = 'data_clean.csv'\n",
    "selected_product = 'B00004WA57'"
   ]
  },
  {
   "cell_type": "code",
   "execution_count": 56,
   "metadata": {
    "collapsed": true
   },
   "outputs": [],
   "source": [
    "def main(input_file, selected_product):#,model_file):\n",
    "    df = pd.read_csv(input_file)\n",
    "    # Creating another dataframe 'raring' to group the data with asin and getting mean of rating.\n",
    "    rating = pd.DataFrame(df.groupby('asin')['rating'].mean())\n",
    "    # Let's add a new column n_ratings\n",
    "    rating['n_ratings'] = pd.DataFrame(df.groupby('asin')['rating'].count())\n",
    "    #Let's do the task and call the new matrix as rating_mat\n",
    "    rating_mat = df.pivot_table(index='reviewerID',\n",
    "                            columns='asin',\n",
    "                            values='rating')\n",
    "    # lets get the rating for the selected product only\n",
    "    selected_product_rating = rating_mat[selected_product]\n",
    "    # getting similar product to the selected one based on correlation\n",
    "    similar_to_selected_product = rating_mat.corrwith(selected_product_rating)\n",
    "    # lets create a dataframe for the asin and correlation columns\n",
    "    corr_selected_product = pd.DataFrame(similar_to_selected_product,\n",
    "                                         columns = ['correlation'])\n",
    "    # lots of NaN, lets drop them \n",
    "    corr_selected_product.dropna(inplace=True)\n",
    "    \n",
    "    print(corr_selected_product)\n",
    "    #rating_mat.info()"
   ]
  },
  {
   "cell_type": "code",
   "execution_count": 57,
   "metadata": {},
   "outputs": [
    {
     "name": "stderr",
     "output_type": "stream",
     "text": [
      "/anaconda/lib/python3.6/site-packages/numpy/lib/function_base.py:2995: RuntimeWarning: Degrees of freedom <= 0 for slice\n",
      "  c = cov(x, y, rowvar)\n",
      "/anaconda/lib/python3.6/site-packages/numpy/lib/function_base.py:2929: RuntimeWarning: divide by zero encountered in double_scalars\n",
      "  c *= 1. / np.float64(fact)\n"
     ]
    },
    {
     "name": "stdout",
     "output_type": "stream",
     "text": [
      "            correlation\n",
      "asin                   \n",
      "B00004WA57          1.0\n"
     ]
    }
   ],
   "source": [
    "if __name__ == '__main__':\n",
    "    #inputs = sys.argv[1]\n",
    "    #inputs = input_file\n",
    "    #model_file = sys.argv[2]\n",
    "    #model_file = model_file\n",
    "    main(input_file, selected_product )#,model_file)"
   ]
  },
  {
   "cell_type": "code",
   "execution_count": 48,
   "metadata": {},
   "outputs": [],
   "source": [
    "#rating_mat.head()"
   ]
  },
  {
   "cell_type": "code",
   "execution_count": null,
   "metadata": {
    "collapsed": true
   },
   "outputs": [],
   "source": [
    "for"
   ]
  },
  {
   "cell_type": "code",
   "execution_count": null,
   "metadata": {
    "collapsed": true
   },
   "outputs": [],
   "source": []
  },
  {
   "cell_type": "code",
   "execution_count": null,
   "metadata": {
    "collapsed": true
   },
   "outputs": [],
   "source": []
  },
  {
   "cell_type": "code",
   "execution_count": 43,
   "metadata": {},
   "outputs": [],
   "source": [
    "df = pd.read_csv(input_file)"
   ]
  },
  {
   "cell_type": "code",
   "execution_count": 44,
   "metadata": {},
   "outputs": [
    {
     "data": {
      "text/html": [
       "<div>\n",
       "<style>\n",
       "    .dataframe thead tr:only-child th {\n",
       "        text-align: right;\n",
       "    }\n",
       "\n",
       "    .dataframe thead th {\n",
       "        text-align: left;\n",
       "    }\n",
       "\n",
       "    .dataframe tbody tr th {\n",
       "        vertical-align: top;\n",
       "    }\n",
       "</style>\n",
       "<table border=\"1\" class=\"dataframe\">\n",
       "  <thead>\n",
       "    <tr style=\"text-align: right;\">\n",
       "      <th></th>\n",
       "      <th>asin</th>\n",
       "      <th>categories</th>\n",
       "      <th>reviewText</th>\n",
       "      <th>reviewTime</th>\n",
       "      <th>reviewerID</th>\n",
       "      <th>reviewerName</th>\n",
       "      <th>summary</th>\n",
       "      <th>title</th>\n",
       "      <th>unixReviewTime</th>\n",
       "      <th>rating</th>\n",
       "      <th>help</th>\n",
       "      <th>rev_len</th>\n",
       "      <th>reviewerID_code</th>\n",
       "      <th>asin_code</th>\n",
       "    </tr>\n",
       "  </thead>\n",
       "  <tbody>\n",
       "    <tr>\n",
       "      <th>0</th>\n",
       "      <td>B00004WA57</td>\n",
       "      <td>[[\"Sports &amp; Outdoors\",\"Outdoor Gear\",\"Camping ...</td>\n",
       "      <td>I have own an E-Z out for over 16yrs and have ...</td>\n",
       "      <td>08 1, 2013</td>\n",
       "      <td>A2FLKB2RU011W5</td>\n",
       "      <td>Amazon Customer</td>\n",
       "      <td>E-Z Out</td>\n",
       "      <td>GERBER E-Z Out Skeleton - Serrated Edge - Mode...</td>\n",
       "      <td>2013-07-31T17:00:00.000-07:00</td>\n",
       "      <td>5</td>\n",
       "      <td>1</td>\n",
       "      <td>522</td>\n",
       "      <td>35934</td>\n",
       "      <td>14</td>\n",
       "    </tr>\n",
       "    <tr>\n",
       "      <th>1</th>\n",
       "      <td>B00004WA57</td>\n",
       "      <td>[[\"Sports &amp; Outdoors\",\"Outdoor Gear\",\"Camping ...</td>\n",
       "      <td>Good product. Exactly what I ordered. Going to...</td>\n",
       "      <td>01 11, 2013</td>\n",
       "      <td>A1AO9Y7BTTEA4S</td>\n",
       "      <td>Anonymous</td>\n",
       "      <td>Great</td>\n",
       "      <td>GERBER E-Z Out Skeleton - Serrated Edge - Mode...</td>\n",
       "      <td>2013-01-10T16:00:00.000-08:00</td>\n",
       "      <td>5</td>\n",
       "      <td>0</td>\n",
       "      <td>131</td>\n",
       "      <td>7460</td>\n",
       "      <td>14</td>\n",
       "    </tr>\n",
       "    <tr>\n",
       "      <th>2</th>\n",
       "      <td>B00004WA57</td>\n",
       "      <td>[[\"Sports &amp; Outdoors\",\"Outdoor Gear\",\"Camping ...</td>\n",
       "      <td>A good product, a must for outdoor enthusiasts...</td>\n",
       "      <td>02 23, 2014</td>\n",
       "      <td>A947DTVGAHEJX</td>\n",
       "      <td>Aryaputr...... \"Dhiraj\"</td>\n",
       "      <td>GERBER E-Z Out Skeleton - KNIFE</td>\n",
       "      <td>GERBER E-Z Out Skeleton - Serrated Edge - Mode...</td>\n",
       "      <td>2014-02-22T16:00:00.000-08:00</td>\n",
       "      <td>5</td>\n",
       "      <td>0</td>\n",
       "      <td>242</td>\n",
       "      <td>76091</td>\n",
       "      <td>14</td>\n",
       "    </tr>\n",
       "    <tr>\n",
       "      <th>3</th>\n",
       "      <td>B00004WA57</td>\n",
       "      <td>[[\"Sports &amp; Outdoors\",\"Outdoor Gear\",\"Camping ...</td>\n",
       "      <td>This knife if easy to use, and more importantl...</td>\n",
       "      <td>08 13, 2011</td>\n",
       "      <td>AIMP6GYOAIXHI</td>\n",
       "      <td>Bay Lady \"Bay Lady\"</td>\n",
       "      <td>Very pleased</td>\n",
       "      <td>GERBER E-Z Out Skeleton - Serrated Edge - Mode...</td>\n",
       "      <td>2011-08-12T17:00:00.000-07:00</td>\n",
       "      <td>5</td>\n",
       "      <td>0</td>\n",
       "      <td>110</td>\n",
       "      <td>82552</td>\n",
       "      <td>14</td>\n",
       "    </tr>\n",
       "    <tr>\n",
       "      <th>4</th>\n",
       "      <td>B00004WA57</td>\n",
       "      <td>[[\"Sports &amp; Outdoors\",\"Outdoor Gear\",\"Camping ...</td>\n",
       "      <td>This is the best knive ive had EVER.  It is sh...</td>\n",
       "      <td>06 30, 2014</td>\n",
       "      <td>A1ISFA63UQQQUE</td>\n",
       "      <td>Bill Blackwell</td>\n",
       "      <td>BEST KNIVE EVER</td>\n",
       "      <td>GERBER E-Z Out Skeleton - Serrated Edge - Mode...</td>\n",
       "      <td>2014-06-29T17:00:00.000-07:00</td>\n",
       "      <td>5</td>\n",
       "      <td>0</td>\n",
       "      <td>99</td>\n",
       "      <td>13071</td>\n",
       "      <td>14</td>\n",
       "    </tr>\n",
       "  </tbody>\n",
       "</table>\n",
       "</div>"
      ],
      "text/plain": [
       "         asin                                         categories  \\\n",
       "0  B00004WA57  [[\"Sports & Outdoors\",\"Outdoor Gear\",\"Camping ...   \n",
       "1  B00004WA57  [[\"Sports & Outdoors\",\"Outdoor Gear\",\"Camping ...   \n",
       "2  B00004WA57  [[\"Sports & Outdoors\",\"Outdoor Gear\",\"Camping ...   \n",
       "3  B00004WA57  [[\"Sports & Outdoors\",\"Outdoor Gear\",\"Camping ...   \n",
       "4  B00004WA57  [[\"Sports & Outdoors\",\"Outdoor Gear\",\"Camping ...   \n",
       "\n",
       "                                          reviewText   reviewTime  \\\n",
       "0  I have own an E-Z out for over 16yrs and have ...   08 1, 2013   \n",
       "1  Good product. Exactly what I ordered. Going to...  01 11, 2013   \n",
       "2  A good product, a must for outdoor enthusiasts...  02 23, 2014   \n",
       "3  This knife if easy to use, and more importantl...  08 13, 2011   \n",
       "4  This is the best knive ive had EVER.  It is sh...  06 30, 2014   \n",
       "\n",
       "       reviewerID             reviewerName                          summary  \\\n",
       "0  A2FLKB2RU011W5          Amazon Customer                          E-Z Out   \n",
       "1  A1AO9Y7BTTEA4S                Anonymous                            Great   \n",
       "2   A947DTVGAHEJX  Aryaputr...... \"Dhiraj\"  GERBER E-Z Out Skeleton - KNIFE   \n",
       "3   AIMP6GYOAIXHI      Bay Lady \"Bay Lady\"                     Very pleased   \n",
       "4  A1ISFA63UQQQUE           Bill Blackwell                  BEST KNIVE EVER   \n",
       "\n",
       "                                               title  \\\n",
       "0  GERBER E-Z Out Skeleton - Serrated Edge - Mode...   \n",
       "1  GERBER E-Z Out Skeleton - Serrated Edge - Mode...   \n",
       "2  GERBER E-Z Out Skeleton - Serrated Edge - Mode...   \n",
       "3  GERBER E-Z Out Skeleton - Serrated Edge - Mode...   \n",
       "4  GERBER E-Z Out Skeleton - Serrated Edge - Mode...   \n",
       "\n",
       "                  unixReviewTime  rating  help  rev_len  reviewerID_code  \\\n",
       "0  2013-07-31T17:00:00.000-07:00       5     1      522            35934   \n",
       "1  2013-01-10T16:00:00.000-08:00       5     0      131             7460   \n",
       "2  2014-02-22T16:00:00.000-08:00       5     0      242            76091   \n",
       "3  2011-08-12T17:00:00.000-07:00       5     0      110            82552   \n",
       "4  2014-06-29T17:00:00.000-07:00       5     0       99            13071   \n",
       "\n",
       "   asin_code  \n",
       "0         14  \n",
       "1         14  \n",
       "2         14  \n",
       "3         14  \n",
       "4         14  "
      ]
     },
     "execution_count": 44,
     "metadata": {},
     "output_type": "execute_result"
    }
   ],
   "source": [
    "df.head()"
   ]
  },
  {
   "cell_type": "code",
   "execution_count": null,
   "metadata": {
    "collapsed": true
   },
   "outputs": [],
   "source": []
  },
  {
   "cell_type": "code",
   "execution_count": null,
   "metadata": {
    "collapsed": true
   },
   "outputs": [],
   "source": []
  },
  {
   "cell_type": "code",
   "execution_count": null,
   "metadata": {
    "collapsed": true
   },
   "outputs": [],
   "source": []
  }
 ],
 "metadata": {
  "kernelspec": {
   "display_name": "Python 3",
   "language": "python",
   "name": "python3"
  },
  "language_info": {
   "codemirror_mode": {
    "name": "ipython",
    "version": 3
   },
   "file_extension": ".py",
   "mimetype": "text/x-python",
   "name": "python",
   "nbconvert_exporter": "python",
   "pygments_lexer": "ipython3",
   "version": "3.6.1"
  }
 },
 "nbformat": 4,
 "nbformat_minor": 2
}
